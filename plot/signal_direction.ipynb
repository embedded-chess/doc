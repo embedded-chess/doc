{
 "cells": [
  {
   "cell_type": "code",
   "execution_count": 1,
   "metadata": {},
   "outputs": [],
   "source": [
    "import matplotlib.pyplot as plt\n",
    "from angle_annotation import AngleAnnotation\n",
    "import numpy as np\n",
    "\n",
    "plt.rcParams['pgf.texsystem'] = 'pdflatex'\n",
    "plt.rcParams['font.family'] = 'serif'\n",
    "plt.rcParams['font.size'] = 14.0\n",
    "plt.rcParams['text.usetex'] = True\n",
    "plt.rcParams['legend.loc'] = 'lower right'\n",
    "plt.rcParams['savefig.bbox'] = 'tight'\n",
    "\n",
    "def plot_signal_direction(north, east, south, west):\n",
    "    resultant_north_south = north - south\n",
    "    resultant_east_west = east - west\n",
    "\n",
    "    fig, ax = plt.subplots()\n",
    "\n",
    "    ax.set_xlim(-max(east, west) * 1.1, max(east, west) * 1.1)\n",
    "    ax.set_ylim(-max(north, south) * 1.1, max(north, south) * 1.1)\n",
    "    ax.axhline(0, color='black',linewidth=0.5, ls='--')\n",
    "    ax.axvline(0, color='black',linewidth=0.5, ls='--')\n",
    "    ax.set_xlabel('Ost-West-Richtung')\n",
    "    ax.set_ylabel('Nord-Süd-Richtung')\n",
    "\n",
    "    ax.quiver(0, 0, 0, north, angles='xy', scale_units='xy', scale=1, color='blue', label=f'Nord ({north})')\n",
    "    ax.quiver(0, 0, 0, -south, angles='xy', scale_units='xy', scale=1, color='red', label=f'Süd ({south})')\n",
    "    ax.quiver(0, 0, east, 0, angles='xy', scale_units='xy', scale=1, color='green', label=f'Ost ({east})')\n",
    "    ax.quiver(0, 0, -west, 0, angles='xy', scale_units='xy', scale=1, color='orange', label=f'West ({west})')\n",
    "\n",
    "    ax.quiver(0, 0, resultant_east_west, resultant_north_south, angles='xy', scale_units='xy', scale=1, color='purple', label='Ergebnisvektor')\n",
    "    \n",
    "    print(resultant_east_west, resultant_north_south)\n",
    "    AngleAnnotation(xy=(0, 0), p1=(resultant_east_west, resultant_north_south), p2=(0, 1), ax=ax, size=50, text=r\"$\\varphi$\")\n",
    "\n",
    "    ax.legend()\n",
    "    plt.grid()\n",
    "    plt.savefig('signal_direction.pdf', format='pdf')\n",
    "    plt.close(fig)"
   ]
  },
  {
   "cell_type": "code",
   "execution_count": 2,
   "metadata": {},
   "outputs": [
    {
     "name": "stdout",
     "output_type": "stream",
     "text": [
      "-0.8 0.3\n"
     ]
    }
   ],
   "source": [
    "north = 0.5\n",
    "east = 0.2\n",
    "south = 0.2\n",
    "west = 1.0\n",
    "\n",
    "plot_signal_direction(north, east, south, west)"
   ]
  }
 ],
 "metadata": {
  "kernelspec": {
   "display_name": ".venv",
   "language": "python",
   "name": "python3"
  },
  "language_info": {
   "codemirror_mode": {
    "name": "ipython",
    "version": 3
   },
   "file_extension": ".py",
   "mimetype": "text/x-python",
   "name": "python",
   "nbconvert_exporter": "python",
   "pygments_lexer": "ipython3",
   "version": "3.13.1"
  }
 },
 "nbformat": 4,
 "nbformat_minor": 2
}
